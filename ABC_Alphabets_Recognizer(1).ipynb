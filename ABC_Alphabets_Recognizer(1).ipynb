{
  "nbformat": 4,
  "nbformat_minor": 0,
  "metadata": {
    "colab": {
      "name": "ABC Alphabets Recognizer.ipynb",
      "provenance": [],
      "collapsed_sections": []
    },
    "kernelspec": {
      "name": "python3",
      "display_name": "Python 3"
    },
    "accelerator": "GPU"
  },
  "cells": [
    {
      "cell_type": "code",
      "metadata": {
        "id": "gSrlScdyVxqp",
        "outputId": "b82bc751-0412-480e-859f-0ba86ea6fa8f",
        "colab": {
          "base_uri": "https://localhost:8080/",
          "height": 34
        }
      },
      "source": [
        "from google.colab import drive\n",
        "drive.mount(\"/content/drive\")"
      ],
      "execution_count": null,
      "outputs": [
        {
          "output_type": "stream",
          "text": [
            "Mounted at /content/drive\n"
          ],
          "name": "stdout"
        }
      ]
    },
    {
      "cell_type": "code",
      "metadata": {
        "id": "qSpsHy5qV7x-",
        "outputId": "e7db8712-afed-4d40-864c-f456c88a7171",
        "colab": {
          "base_uri": "https://localhost:8080/",
          "height": 34
        }
      },
      "source": [
        "cd /content/drive/My\\ Drive/"
      ],
      "execution_count": null,
      "outputs": [
        {
          "output_type": "stream",
          "text": [
            "/content/drive/My Drive\n"
          ],
          "name": "stdout"
        }
      ]
    },
    {
      "cell_type": "code",
      "metadata": {
        "id": "9pc_NS7JbGdd",
        "outputId": "3d2987cc-ae81-45d2-f571-f787e1680c26",
        "colab": {
          "base_uri": "https://localhost:8080/",
          "height": 69
        }
      },
      "source": [
        "!curl -O https://storage.googleapis.com/download.tensorflow.org/data/speech_commands_v0.02.tar.gz"
      ],
      "execution_count": null,
      "outputs": [
        {
          "output_type": "stream",
          "text": [
            "  % Total    % Received % Xferd  Average Speed   Time    Time     Time  Current\n",
            "                                 Dload  Upload   Total   Spent    Left  Speed\n",
            "  3 2316M    3 84.2M    0     0  32.5M      0  0:01:11  0:00:02  0:01:09 32.5M^C\n"
          ],
          "name": "stdout"
        }
      ]
    },
    {
      "cell_type": "code",
      "metadata": {
        "id": "YoGJUTkIbjJ3"
      },
      "source": [
        "!tar -xf speech_commands_v0.02.tar.gz"
      ],
      "execution_count": null,
      "outputs": []
    },
    {
      "cell_type": "code",
      "metadata": {
        "id": "ZsZCYozARQCC",
        "outputId": "dd0b086b-6186-4214-80c7-92b64e4bdcca",
        "colab": {
          "base_uri": "https://localhost:8080/",
          "height": 34
        }
      },
      "source": [
        "!pwd"
      ],
      "execution_count": null,
      "outputs": [
        {
          "output_type": "stream",
          "text": [
            "/content/drive/My Drive\n"
          ],
          "name": "stdout"
        }
      ]
    },
    {
      "cell_type": "code",
      "metadata": {
        "id": "g4GqGGgoWqAX",
        "outputId": "00e55522-8e3b-4e54-e9a0-e8e50d84297e",
        "colab": {
          "base_uri": "https://localhost:8080/",
          "height": 1000
        }
      },
      "source": [
        "!python speech_commands/train.py --wanted_words=python"
      ],
      "execution_count": null,
      "outputs": [
        {
          "output_type": "stream",
          "text": [
            "2020-09-16 09:53:06.327845: I tensorflow/stream_executor/platform/default/dso_loader.cc:48] Successfully opened dynamic library libcudart.so.10.1\n",
            "2020-09-16 09:53:07.972196: I tensorflow/core/platform/profile_utils/cpu_utils.cc:104] CPU Frequency: 2299995000 Hz\n",
            "2020-09-16 09:53:07.972524: I tensorflow/compiler/xla/service/service.cc:168] XLA service 0x1dcabc0 initialized for platform Host (this does not guarantee that XLA will be used). Devices:\n",
            "2020-09-16 09:53:07.972560: I tensorflow/compiler/xla/service/service.cc:176]   StreamExecutor device (0): Host, Default Version\n",
            "2020-09-16 09:53:07.974729: I tensorflow/stream_executor/platform/default/dso_loader.cc:48] Successfully opened dynamic library libcuda.so.1\n",
            "2020-09-16 09:53:08.026596: I tensorflow/stream_executor/cuda/cuda_gpu_executor.cc:982] successful NUMA node read from SysFS had negative value (-1), but there must be at least one NUMA node, so returning NUMA node zero\n",
            "2020-09-16 09:53:08.027489: I tensorflow/compiler/xla/service/service.cc:168] XLA service 0x1dcad80 initialized for platform CUDA (this does not guarantee that XLA will be used). Devices:\n",
            "2020-09-16 09:53:08.027529: I tensorflow/compiler/xla/service/service.cc:176]   StreamExecutor device (0): Tesla K80, Compute Capability 3.7\n",
            "2020-09-16 09:53:08.027754: I tensorflow/stream_executor/cuda/cuda_gpu_executor.cc:982] successful NUMA node read from SysFS had negative value (-1), but there must be at least one NUMA node, so returning NUMA node zero\n",
            "2020-09-16 09:53:08.028396: I tensorflow/core/common_runtime/gpu/gpu_device.cc:1716] Found device 0 with properties: \n",
            "pciBusID: 0000:00:04.0 name: Tesla K80 computeCapability: 3.7\n",
            "coreClock: 0.8235GHz coreCount: 13 deviceMemorySize: 11.17GiB deviceMemoryBandwidth: 223.96GiB/s\n",
            "2020-09-16 09:53:08.028472: I tensorflow/stream_executor/platform/default/dso_loader.cc:48] Successfully opened dynamic library libcudart.so.10.1\n",
            "2020-09-16 09:53:08.030375: I tensorflow/stream_executor/platform/default/dso_loader.cc:48] Successfully opened dynamic library libcublas.so.10\n",
            "2020-09-16 09:53:08.032186: I tensorflow/stream_executor/platform/default/dso_loader.cc:48] Successfully opened dynamic library libcufft.so.10\n",
            "2020-09-16 09:53:08.032534: I tensorflow/stream_executor/platform/default/dso_loader.cc:48] Successfully opened dynamic library libcurand.so.10\n",
            "2020-09-16 09:53:08.034570: I tensorflow/stream_executor/platform/default/dso_loader.cc:48] Successfully opened dynamic library libcusolver.so.10\n",
            "2020-09-16 09:53:08.035648: I tensorflow/stream_executor/platform/default/dso_loader.cc:48] Successfully opened dynamic library libcusparse.so.10\n",
            "2020-09-16 09:53:08.040293: I tensorflow/stream_executor/platform/default/dso_loader.cc:48] Successfully opened dynamic library libcudnn.so.7\n",
            "2020-09-16 09:53:08.040462: I tensorflow/stream_executor/cuda/cuda_gpu_executor.cc:982] successful NUMA node read from SysFS had negative value (-1), but there must be at least one NUMA node, so returning NUMA node zero\n",
            "2020-09-16 09:53:08.041338: I tensorflow/stream_executor/cuda/cuda_gpu_executor.cc:982] successful NUMA node read from SysFS had negative value (-1), but there must be at least one NUMA node, so returning NUMA node zero\n",
            "2020-09-16 09:53:08.042128: I tensorflow/core/common_runtime/gpu/gpu_device.cc:1858] Adding visible gpu devices: 0\n",
            "2020-09-16 09:53:08.042185: I tensorflow/stream_executor/platform/default/dso_loader.cc:48] Successfully opened dynamic library libcudart.so.10.1\n",
            "2020-09-16 09:53:08.539984: I tensorflow/core/common_runtime/gpu/gpu_device.cc:1257] Device interconnect StreamExecutor with strength 1 edge matrix:\n",
            "2020-09-16 09:53:08.540072: I tensorflow/core/common_runtime/gpu/gpu_device.cc:1263]      0 \n",
            "2020-09-16 09:53:08.540093: I tensorflow/core/common_runtime/gpu/gpu_device.cc:1276] 0:   N \n",
            "2020-09-16 09:53:08.540331: I tensorflow/stream_executor/cuda/cuda_gpu_executor.cc:982] successful NUMA node read from SysFS had negative value (-1), but there must be at least one NUMA node, so returning NUMA node zero\n",
            "2020-09-16 09:53:08.541133: I tensorflow/stream_executor/cuda/cuda_gpu_executor.cc:982] successful NUMA node read from SysFS had negative value (-1), but there must be at least one NUMA node, so returning NUMA node zero\n",
            "2020-09-16 09:53:08.541812: I tensorflow/core/common_runtime/gpu/gpu_device.cc:1402] Created TensorFlow device (/job:localhost/replica:0/task:0/device:GPU:0 with 10506 MB memory) -> physical GPU (device: 0, name: Tesla K80, pci bus id: 0000:00:04.0, compute capability: 3.7)\n",
            "2020-09-16 09:53:09.847430: I tensorflow/stream_executor/cuda/cuda_gpu_executor.cc:982] successful NUMA node read from SysFS had negative value (-1), but there must be at least one NUMA node, so returning NUMA node zero\n",
            "2020-09-16 09:53:09.848275: I tensorflow/core/common_runtime/gpu/gpu_device.cc:1716] Found device 0 with properties: \n",
            "pciBusID: 0000:00:04.0 name: Tesla K80 computeCapability: 3.7\n",
            "coreClock: 0.8235GHz coreCount: 13 deviceMemorySize: 11.17GiB deviceMemoryBandwidth: 223.96GiB/s\n",
            "2020-09-16 09:53:09.848336: I tensorflow/stream_executor/platform/default/dso_loader.cc:48] Successfully opened dynamic library libcudart.so.10.1\n",
            "2020-09-16 09:53:09.848388: I tensorflow/stream_executor/platform/default/dso_loader.cc:48] Successfully opened dynamic library libcublas.so.10\n",
            "2020-09-16 09:53:09.848425: I tensorflow/stream_executor/platform/default/dso_loader.cc:48] Successfully opened dynamic library libcufft.so.10\n",
            "2020-09-16 09:53:09.848460: I tensorflow/stream_executor/platform/default/dso_loader.cc:48] Successfully opened dynamic library libcurand.so.10\n",
            "2020-09-16 09:53:09.848511: I tensorflow/stream_executor/platform/default/dso_loader.cc:48] Successfully opened dynamic library libcusolver.so.10\n",
            "2020-09-16 09:53:09.848566: I tensorflow/stream_executor/platform/default/dso_loader.cc:48] Successfully opened dynamic library libcusparse.so.10\n",
            "2020-09-16 09:53:09.848603: I tensorflow/stream_executor/platform/default/dso_loader.cc:48] Successfully opened dynamic library libcudnn.so.7\n",
            "2020-09-16 09:53:09.848719: I tensorflow/stream_executor/cuda/cuda_gpu_executor.cc:982] successful NUMA node read from SysFS had negative value (-1), but there must be at least one NUMA node, so returning NUMA node zero\n",
            "2020-09-16 09:53:09.849452: I tensorflow/stream_executor/cuda/cuda_gpu_executor.cc:982] successful NUMA node read from SysFS had negative value (-1), but there must be at least one NUMA node, so returning NUMA node zero\n",
            "2020-09-16 09:53:09.850130: I tensorflow/core/common_runtime/gpu/gpu_device.cc:1858] Adding visible gpu devices: 0\n",
            "2020-09-16 09:53:09.850735: I tensorflow/stream_executor/cuda/cuda_gpu_executor.cc:982] successful NUMA node read from SysFS had negative value (-1), but there must be at least one NUMA node, so returning NUMA node zero\n",
            "2020-09-16 09:53:09.851698: I tensorflow/core/common_runtime/gpu/gpu_device.cc:1716] Found device 0 with properties: \n",
            "pciBusID: 0000:00:04.0 name: Tesla K80 computeCapability: 3.7\n",
            "coreClock: 0.8235GHz coreCount: 13 deviceMemorySize: 11.17GiB deviceMemoryBandwidth: 223.96GiB/s\n",
            "2020-09-16 09:53:09.851760: I tensorflow/stream_executor/platform/default/dso_loader.cc:48] Successfully opened dynamic library libcudart.so.10.1\n",
            "2020-09-16 09:53:09.851791: I tensorflow/stream_executor/platform/default/dso_loader.cc:48] Successfully opened dynamic library libcublas.so.10\n",
            "2020-09-16 09:53:09.851819: I tensorflow/stream_executor/platform/default/dso_loader.cc:48] Successfully opened dynamic library libcufft.so.10\n",
            "2020-09-16 09:53:09.851870: I tensorflow/stream_executor/platform/default/dso_loader.cc:48] Successfully opened dynamic library libcurand.so.10\n",
            "2020-09-16 09:53:09.851955: I tensorflow/stream_executor/platform/default/dso_loader.cc:48] Successfully opened dynamic library libcusolver.so.10\n",
            "2020-09-16 09:53:09.852002: I tensorflow/stream_executor/platform/default/dso_loader.cc:48] Successfully opened dynamic library libcusparse.so.10\n",
            "2020-09-16 09:53:09.852043: I tensorflow/stream_executor/platform/default/dso_loader.cc:48] Successfully opened dynamic library libcudnn.so.7\n",
            "2020-09-16 09:53:09.852199: I tensorflow/stream_executor/cuda/cuda_gpu_executor.cc:982] successful NUMA node read from SysFS had negative value (-1), but there must be at least one NUMA node, so returning NUMA node zero\n",
            "2020-09-16 09:53:09.853511: I tensorflow/stream_executor/cuda/cuda_gpu_executor.cc:982] successful NUMA node read from SysFS had negative value (-1), but there must be at least one NUMA node, so returning NUMA node zero\n",
            "2020-09-16 09:53:09.854240: I tensorflow/core/common_runtime/gpu/gpu_device.cc:1858] Adding visible gpu devices: 0\n",
            "2020-09-16 09:53:09.854319: I tensorflow/core/common_runtime/gpu/gpu_device.cc:1257] Device interconnect StreamExecutor with strength 1 edge matrix:\n",
            "2020-09-16 09:53:09.854348: I tensorflow/core/common_runtime/gpu/gpu_device.cc:1263]      0 \n",
            "2020-09-16 09:53:09.854368: I tensorflow/core/common_runtime/gpu/gpu_device.cc:1276] 0:   N \n",
            "2020-09-16 09:53:09.855027: I tensorflow/stream_executor/cuda/cuda_gpu_executor.cc:982] successful NUMA node read from SysFS had negative value (-1), but there must be at least one NUMA node, so returning NUMA node zero\n",
            "2020-09-16 09:53:09.855932: I tensorflow/stream_executor/cuda/cuda_gpu_executor.cc:982] successful NUMA node read from SysFS had negative value (-1), but there must be at least one NUMA node, so returning NUMA node zero\n",
            "2020-09-16 09:53:09.857846: I tensorflow/core/common_runtime/gpu/gpu_device.cc:1402] Created TensorFlow device (/job:localhost/replica:0/task:0/device:GPU:0 with 10506 MB memory) -> physical GPU (device: 0, name: Tesla K80, pci bus id: 0000:00:04.0, compute capability: 3.7)\n",
            "INFO:tensorflow:Training from step: 1 \n",
            "I0916 09:53:10.280871 140633325897600 train.py:212] Training from step: 1 \n",
            "2020-09-16 09:53:10.959707: I tensorflow/stream_executor/platform/default/dso_loader.cc:48] Successfully opened dynamic library libcublas.so.10\n",
            "2020-09-16 09:53:11.153936: I tensorflow/stream_executor/platform/default/dso_loader.cc:48] Successfully opened dynamic library libcudnn.so.7\n",
            "INFO:tensorflow:Saving to \"/tmp/speech_commands_train/conv.ckpt-100\"\n",
            "I0916 09:54:19.371441 140633325897600 train.py:297] Saving to \"/tmp/speech_commands_train/conv.ckpt-100\"\n",
            "INFO:tensorflow:Saving to \"/tmp/speech_commands_train/conv.ckpt-200\"\n",
            "I0916 09:55:25.955320 140633325897600 train.py:297] Saving to \"/tmp/speech_commands_train/conv.ckpt-200\"\n",
            "INFO:tensorflow:Saving to \"/tmp/speech_commands_train/conv.ckpt-300\"\n",
            "I0916 09:56:32.674131 140633325897600 train.py:297] Saving to \"/tmp/speech_commands_train/conv.ckpt-300\"\n",
            "INFO:tensorflow:Step #400: rate 0.001000, accuracy 97.0%, cross entropy 0.103935\n",
            "I0916 09:57:39.151738 140633325897600 train.py:263] Step #400: rate 0.001000, accuracy 97.0%, cross entropy 0.103935\n",
            "INFO:tensorflow:Confusion Matrix:\n",
            " [[1 0 0]\n",
            " [0 1 0]\n",
            " [0 0 9]]\n",
            "I0916 09:57:39.283800 140633325897600 train.py:287] Confusion Matrix:\n",
            " [[1 0 0]\n",
            " [0 1 0]\n",
            " [0 0 9]]\n",
            "INFO:tensorflow:Step 400: Validation accuracy = 100.0% (N=11)\n",
            "I0916 09:57:39.284268 140633325897600 train.py:289] Step 400: Validation accuracy = 100.0% (N=11)\n",
            "INFO:tensorflow:Saving to \"/tmp/speech_commands_train/conv.ckpt-400\"\n",
            "I0916 09:57:39.284417 140633325897600 train.py:297] Saving to \"/tmp/speech_commands_train/conv.ckpt-400\"\n",
            "INFO:tensorflow:Saving to \"/tmp/speech_commands_train/conv.ckpt-500\"\n",
            "I0916 09:58:45.569134 140633325897600 train.py:297] Saving to \"/tmp/speech_commands_train/conv.ckpt-500\"\n",
            "INFO:tensorflow:Saving to \"/tmp/speech_commands_train/conv.ckpt-600\"\n",
            "I0916 09:59:52.263891 140633325897600 train.py:297] Saving to \"/tmp/speech_commands_train/conv.ckpt-600\"\n",
            "WARNING:tensorflow:From /usr/local/lib/python3.6/dist-packages/tensorflow/python/training/saver.py:971: remove_checkpoint (from tensorflow.python.training.checkpoint_management) is deprecated and will be removed in a future version.\n",
            "Instructions for updating:\n",
            "Use standard file APIs to delete files with this prefix.\n",
            "W0916 09:59:52.271040 140633325897600 deprecation.py:323] From /usr/local/lib/python3.6/dist-packages/tensorflow/python/training/saver.py:971: remove_checkpoint (from tensorflow.python.training.checkpoint_management) is deprecated and will be removed in a future version.\n",
            "Instructions for updating:\n",
            "Use standard file APIs to delete files with this prefix.\n",
            "INFO:tensorflow:Saving to \"/tmp/speech_commands_train/conv.ckpt-700\"\n",
            "I0916 10:00:57.757918 140633325897600 train.py:297] Saving to \"/tmp/speech_commands_train/conv.ckpt-700\"\n",
            "INFO:tensorflow:Step #800: rate 0.001000, accuracy 100.0%, cross entropy 0.027569\n",
            "I0916 10:02:03.170156 140633325897600 train.py:263] Step #800: rate 0.001000, accuracy 100.0%, cross entropy 0.027569\n",
            "INFO:tensorflow:Confusion Matrix:\n",
            " [[1 0 0]\n",
            " [0 1 0]\n",
            " [0 0 9]]\n",
            "I0916 10:02:03.233972 140633325897600 train.py:287] Confusion Matrix:\n",
            " [[1 0 0]\n",
            " [0 1 0]\n",
            " [0 0 9]]\n",
            "INFO:tensorflow:Step 800: Validation accuracy = 100.0% (N=11)\n",
            "I0916 10:02:03.234263 140633325897600 train.py:289] Step 800: Validation accuracy = 100.0% (N=11)\n",
            "INFO:tensorflow:Saving to \"/tmp/speech_commands_train/conv.ckpt-800\"\n",
            "I0916 10:02:03.234398 140633325897600 train.py:297] Saving to \"/tmp/speech_commands_train/conv.ckpt-800\"\n",
            "INFO:tensorflow:Saving to \"/tmp/speech_commands_train/conv.ckpt-900\"\n",
            "I0916 10:03:07.280774 140633325897600 train.py:297] Saving to \"/tmp/speech_commands_train/conv.ckpt-900\"\n",
            "INFO:tensorflow:Saving to \"/tmp/speech_commands_train/conv.ckpt-1000\"\n",
            "I0916 10:04:11.208214 140633325897600 train.py:297] Saving to \"/tmp/speech_commands_train/conv.ckpt-1000\"\n",
            "INFO:tensorflow:Saving to \"/tmp/speech_commands_train/conv.ckpt-1100\"\n",
            "I0916 10:05:16.507421 140633325897600 train.py:297] Saving to \"/tmp/speech_commands_train/conv.ckpt-1100\"\n",
            "INFO:tensorflow:Step #1200: rate 0.001000, accuracy 100.0%, cross entropy 0.024858\n",
            "I0916 10:06:20.778391 140633325897600 train.py:263] Step #1200: rate 0.001000, accuracy 100.0%, cross entropy 0.024858\n",
            "INFO:tensorflow:Confusion Matrix:\n",
            " [[1 0 0]\n",
            " [0 1 0]\n",
            " [0 0 9]]\n",
            "I0916 10:06:20.840897 140633325897600 train.py:287] Confusion Matrix:\n",
            " [[1 0 0]\n",
            " [0 1 0]\n",
            " [0 0 9]]\n",
            "INFO:tensorflow:Step 1200: Validation accuracy = 100.0% (N=11)\n",
            "I0916 10:06:20.841220 140633325897600 train.py:289] Step 1200: Validation accuracy = 100.0% (N=11)\n",
            "INFO:tensorflow:Saving to \"/tmp/speech_commands_train/conv.ckpt-1200\"\n",
            "I0916 10:06:20.841398 140633325897600 train.py:297] Saving to \"/tmp/speech_commands_train/conv.ckpt-1200\"\n",
            "INFO:tensorflow:Saving to \"/tmp/speech_commands_train/conv.ckpt-1300\"\n",
            "I0916 10:07:24.945097 140633325897600 train.py:297] Saving to \"/tmp/speech_commands_train/conv.ckpt-1300\"\n",
            "INFO:tensorflow:Saving to \"/tmp/speech_commands_train/conv.ckpt-1400\"\n",
            "I0916 10:08:29.392151 140633325897600 train.py:297] Saving to \"/tmp/speech_commands_train/conv.ckpt-1400\"\n",
            "INFO:tensorflow:Saving to \"/tmp/speech_commands_train/conv.ckpt-1500\"\n",
            "I0916 10:09:34.019077 140633325897600 train.py:297] Saving to \"/tmp/speech_commands_train/conv.ckpt-1500\"\n",
            "INFO:tensorflow:Step #1600: rate 0.001000, accuracy 100.0%, cross entropy 0.017584\n",
            "I0916 10:10:37.620689 140633325897600 train.py:263] Step #1600: rate 0.001000, accuracy 100.0%, cross entropy 0.017584\n",
            "INFO:tensorflow:Confusion Matrix:\n",
            " [[1 0 0]\n",
            " [0 1 0]\n",
            " [0 0 9]]\n",
            "I0916 10:10:37.686718 140633325897600 train.py:287] Confusion Matrix:\n",
            " [[1 0 0]\n",
            " [0 1 0]\n",
            " [0 0 9]]\n",
            "INFO:tensorflow:Step 1600: Validation accuracy = 100.0% (N=11)\n",
            "I0916 10:10:37.687089 140633325897600 train.py:289] Step 1600: Validation accuracy = 100.0% (N=11)\n",
            "INFO:tensorflow:Saving to \"/tmp/speech_commands_train/conv.ckpt-1600\"\n",
            "I0916 10:10:37.687247 140633325897600 train.py:297] Saving to \"/tmp/speech_commands_train/conv.ckpt-1600\"\n",
            "INFO:tensorflow:Saving to \"/tmp/speech_commands_train/conv.ckpt-1700\"\n",
            "I0916 10:11:41.075922 140633325897600 train.py:297] Saving to \"/tmp/speech_commands_train/conv.ckpt-1700\"\n",
            "INFO:tensorflow:Saving to \"/tmp/speech_commands_train/conv.ckpt-1800\"\n",
            "I0916 10:12:44.951504 140633325897600 train.py:297] Saving to \"/tmp/speech_commands_train/conv.ckpt-1800\"\n",
            "INFO:tensorflow:Saving to \"/tmp/speech_commands_train/conv.ckpt-1900\"\n",
            "I0916 10:13:48.468868 140633325897600 train.py:297] Saving to \"/tmp/speech_commands_train/conv.ckpt-1900\"\n",
            "INFO:tensorflow:Step #2000: rate 0.001000, accuracy 100.0%, cross entropy 0.005185\n",
            "I0916 10:14:52.614526 140633325897600 train.py:263] Step #2000: rate 0.001000, accuracy 100.0%, cross entropy 0.005185\n",
            "INFO:tensorflow:Confusion Matrix:\n",
            " [[1 0 0]\n",
            " [0 1 0]\n",
            " [0 0 9]]\n",
            "I0916 10:14:52.679812 140633325897600 train.py:287] Confusion Matrix:\n",
            " [[1 0 0]\n",
            " [0 1 0]\n",
            " [0 0 9]]\n",
            "INFO:tensorflow:Step 2000: Validation accuracy = 100.0% (N=11)\n",
            "I0916 10:14:52.680166 140633325897600 train.py:289] Step 2000: Validation accuracy = 100.0% (N=11)\n",
            "INFO:tensorflow:Saving to \"/tmp/speech_commands_train/conv.ckpt-2000\"\n",
            "I0916 10:14:52.680302 140633325897600 train.py:297] Saving to \"/tmp/speech_commands_train/conv.ckpt-2000\"\n",
            "INFO:tensorflow:Saving to \"/tmp/speech_commands_train/conv.ckpt-2100\"\n",
            "I0916 10:15:56.420567 140633325897600 train.py:297] Saving to \"/tmp/speech_commands_train/conv.ckpt-2100\"\n",
            "INFO:tensorflow:Saving to \"/tmp/speech_commands_train/conv.ckpt-2200\"\n",
            "I0916 10:17:00.011283 140633325897600 train.py:297] Saving to \"/tmp/speech_commands_train/conv.ckpt-2200\"\n",
            "INFO:tensorflow:Saving to \"/tmp/speech_commands_train/conv.ckpt-2300\"\n",
            "I0916 10:18:05.257102 140633325897600 train.py:297] Saving to \"/tmp/speech_commands_train/conv.ckpt-2300\"\n",
            "INFO:tensorflow:Step #2400: rate 0.001000, accuracy 100.0%, cross entropy 0.009792\n",
            "I0916 10:19:08.972504 140633325897600 train.py:263] Step #2400: rate 0.001000, accuracy 100.0%, cross entropy 0.009792\n",
            "INFO:tensorflow:Confusion Matrix:\n",
            " [[1 0 0]\n",
            " [0 1 0]\n",
            " [0 0 9]]\n",
            "I0916 10:19:09.043549 140633325897600 train.py:287] Confusion Matrix:\n",
            " [[1 0 0]\n",
            " [0 1 0]\n",
            " [0 0 9]]\n",
            "INFO:tensorflow:Step 2400: Validation accuracy = 100.0% (N=11)\n",
            "I0916 10:19:09.043887 140633325897600 train.py:289] Step 2400: Validation accuracy = 100.0% (N=11)\n",
            "INFO:tensorflow:Saving to \"/tmp/speech_commands_train/conv.ckpt-2400\"\n",
            "I0916 10:19:09.044034 140633325897600 train.py:297] Saving to \"/tmp/speech_commands_train/conv.ckpt-2400\"\n",
            "INFO:tensorflow:Saving to \"/tmp/speech_commands_train/conv.ckpt-2500\"\n",
            "I0916 10:20:12.855283 140633325897600 train.py:297] Saving to \"/tmp/speech_commands_train/conv.ckpt-2500\"\n",
            "INFO:tensorflow:Saving to \"/tmp/speech_commands_train/conv.ckpt-2600\"\n",
            "I0916 10:21:16.491913 140633325897600 train.py:297] Saving to \"/tmp/speech_commands_train/conv.ckpt-2600\"\n",
            "INFO:tensorflow:Saving to \"/tmp/speech_commands_train/conv.ckpt-2700\"\n",
            "I0916 10:22:20.901477 140633325897600 train.py:297] Saving to \"/tmp/speech_commands_train/conv.ckpt-2700\"\n",
            "INFO:tensorflow:Step #2800: rate 0.001000, accuracy 100.0%, cross entropy 0.007453\n",
            "I0916 10:23:25.216857 140633325897600 train.py:263] Step #2800: rate 0.001000, accuracy 100.0%, cross entropy 0.007453\n",
            "INFO:tensorflow:Confusion Matrix:\n",
            " [[1 0 0]\n",
            " [0 1 0]\n",
            " [0 0 9]]\n",
            "I0916 10:23:25.283916 140633325897600 train.py:287] Confusion Matrix:\n",
            " [[1 0 0]\n",
            " [0 1 0]\n",
            " [0 0 9]]\n",
            "INFO:tensorflow:Step 2800: Validation accuracy = 100.0% (N=11)\n",
            "I0916 10:23:25.284294 140633325897600 train.py:289] Step 2800: Validation accuracy = 100.0% (N=11)\n",
            "INFO:tensorflow:Saving to \"/tmp/speech_commands_train/conv.ckpt-2800\"\n",
            "I0916 10:23:25.284433 140633325897600 train.py:297] Saving to \"/tmp/speech_commands_train/conv.ckpt-2800\"\n",
            "INFO:tensorflow:Saving to \"/tmp/speech_commands_train/conv.ckpt-2900\"\n",
            "I0916 10:24:28.861823 140633325897600 train.py:297] Saving to \"/tmp/speech_commands_train/conv.ckpt-2900\"\n",
            "INFO:tensorflow:Saving to \"/tmp/speech_commands_train/conv.ckpt-3000\"\n",
            "I0916 10:25:31.896167 140633325897600 train.py:297] Saving to \"/tmp/speech_commands_train/conv.ckpt-3000\"\n",
            "INFO:tensorflow:Saving to \"/tmp/speech_commands_train/conv.ckpt-3100\"\n",
            "I0916 10:26:35.056048 140633325897600 train.py:297] Saving to \"/tmp/speech_commands_train/conv.ckpt-3100\"\n",
            "INFO:tensorflow:Step #3200: rate 0.001000, accuracy 98.0%, cross entropy 0.023341\n",
            "I0916 10:27:38.739688 140633325897600 train.py:263] Step #3200: rate 0.001000, accuracy 98.0%, cross entropy 0.023341\n",
            "INFO:tensorflow:Confusion Matrix:\n",
            " [[1 0 0]\n",
            " [0 1 0]\n",
            " [0 0 9]]\n",
            "I0916 10:27:38.805735 140633325897600 train.py:287] Confusion Matrix:\n",
            " [[1 0 0]\n",
            " [0 1 0]\n",
            " [0 0 9]]\n",
            "INFO:tensorflow:Step 3200: Validation accuracy = 100.0% (N=11)\n",
            "I0916 10:27:38.805952 140633325897600 train.py:289] Step 3200: Validation accuracy = 100.0% (N=11)\n",
            "INFO:tensorflow:Saving to \"/tmp/speech_commands_train/conv.ckpt-3200\"\n",
            "I0916 10:27:38.806277 140633325897600 train.py:297] Saving to \"/tmp/speech_commands_train/conv.ckpt-3200\"\n",
            "INFO:tensorflow:Saving to \"/tmp/speech_commands_train/conv.ckpt-3300\"\n",
            "I0916 10:28:43.049522 140633325897600 train.py:297] Saving to \"/tmp/speech_commands_train/conv.ckpt-3300\"\n",
            "INFO:tensorflow:Saving to \"/tmp/speech_commands_train/conv.ckpt-3400\"\n",
            "I0916 10:29:46.628458 140633325897600 train.py:297] Saving to \"/tmp/speech_commands_train/conv.ckpt-3400\"\n",
            "INFO:tensorflow:Saving to \"/tmp/speech_commands_train/conv.ckpt-3500\"\n",
            "I0916 10:30:50.031106 140633325897600 train.py:297] Saving to \"/tmp/speech_commands_train/conv.ckpt-3500\"\n",
            "INFO:tensorflow:Step #3600: rate 0.001000, accuracy 100.0%, cross entropy 0.008552\n",
            "I0916 10:31:53.921219 140633325897600 train.py:263] Step #3600: rate 0.001000, accuracy 100.0%, cross entropy 0.008552\n",
            "INFO:tensorflow:Confusion Matrix:\n",
            " [[0 1 0]\n",
            " [0 1 0]\n",
            " [0 0 9]]\n",
            "I0916 10:31:53.984320 140633325897600 train.py:287] Confusion Matrix:\n",
            " [[0 1 0]\n",
            " [0 1 0]\n",
            " [0 0 9]]\n",
            "INFO:tensorflow:Step 3600: Validation accuracy = 90.9% (N=11)\n",
            "I0916 10:31:53.984711 140633325897600 train.py:289] Step 3600: Validation accuracy = 90.9% (N=11)\n",
            "INFO:tensorflow:Saving to \"/tmp/speech_commands_train/conv.ckpt-3600\"\n",
            "I0916 10:31:53.984846 140633325897600 train.py:297] Saving to \"/tmp/speech_commands_train/conv.ckpt-3600\"\n",
            "INFO:tensorflow:Saving to \"/tmp/speech_commands_train/conv.ckpt-3700\"\n",
            "I0916 10:32:57.730736 140633325897600 train.py:297] Saving to \"/tmp/speech_commands_train/conv.ckpt-3700\"\n",
            "INFO:tensorflow:Saving to \"/tmp/speech_commands_train/conv.ckpt-3800\"\n",
            "I0916 10:34:01.571454 140633325897600 train.py:297] Saving to \"/tmp/speech_commands_train/conv.ckpt-3800\"\n",
            "INFO:tensorflow:Saving to \"/tmp/speech_commands_train/conv.ckpt-3900\"\n",
            "I0916 10:35:04.707444 140633325897600 train.py:297] Saving to \"/tmp/speech_commands_train/conv.ckpt-3900\"\n",
            "INFO:tensorflow:Step #4000: rate 0.001000, accuracy 100.0%, cross entropy 0.010261\n",
            "I0916 10:36:07.767284 140633325897600 train.py:263] Step #4000: rate 0.001000, accuracy 100.0%, cross entropy 0.010261\n",
            "INFO:tensorflow:Confusion Matrix:\n",
            " [[1 0 0]\n",
            " [0 1 0]\n",
            " [0 0 9]]\n",
            "I0916 10:36:07.831764 140633325897600 train.py:287] Confusion Matrix:\n",
            " [[1 0 0]\n",
            " [0 1 0]\n",
            " [0 0 9]]\n",
            "INFO:tensorflow:Step 4000: Validation accuracy = 100.0% (N=11)\n",
            "I0916 10:36:07.832120 140633325897600 train.py:289] Step 4000: Validation accuracy = 100.0% (N=11)\n",
            "INFO:tensorflow:Saving to \"/tmp/speech_commands_train/conv.ckpt-4000\"\n",
            "I0916 10:36:07.832286 140633325897600 train.py:297] Saving to \"/tmp/speech_commands_train/conv.ckpt-4000\"\n",
            "INFO:tensorflow:Saving to \"/tmp/speech_commands_train/conv.ckpt-4100\"\n",
            "I0916 10:37:11.058676 140633325897600 train.py:297] Saving to \"/tmp/speech_commands_train/conv.ckpt-4100\"\n",
            "INFO:tensorflow:Saving to \"/tmp/speech_commands_train/conv.ckpt-4200\"\n",
            "I0916 10:38:15.291110 140633325897600 train.py:297] Saving to \"/tmp/speech_commands_train/conv.ckpt-4200\"\n",
            "INFO:tensorflow:Saving to \"/tmp/speech_commands_train/conv.ckpt-4300\"\n",
            "I0916 10:39:19.028097 140633325897600 train.py:297] Saving to \"/tmp/speech_commands_train/conv.ckpt-4300\"\n",
            "INFO:tensorflow:Step #4400: rate 0.001000, accuracy 100.0%, cross entropy 0.001900\n",
            "I0916 10:40:22.449570 140633325897600 train.py:263] Step #4400: rate 0.001000, accuracy 100.0%, cross entropy 0.001900\n",
            "INFO:tensorflow:Confusion Matrix:\n",
            " [[1 0 0]\n",
            " [0 1 0]\n",
            " [0 0 9]]\n",
            "I0916 10:40:22.520465 140633325897600 train.py:287] Confusion Matrix:\n",
            " [[1 0 0]\n",
            " [0 1 0]\n",
            " [0 0 9]]\n",
            "INFO:tensorflow:Step 4400: Validation accuracy = 100.0% (N=11)\n",
            "I0916 10:40:22.520828 140633325897600 train.py:289] Step 4400: Validation accuracy = 100.0% (N=11)\n",
            "INFO:tensorflow:Saving to \"/tmp/speech_commands_train/conv.ckpt-4400\"\n",
            "I0916 10:40:22.520981 140633325897600 train.py:297] Saving to \"/tmp/speech_commands_train/conv.ckpt-4400\"\n",
            "INFO:tensorflow:Saving to \"/tmp/speech_commands_train/conv.ckpt-4500\"\n",
            "I0916 10:41:25.985095 140633325897600 train.py:297] Saving to \"/tmp/speech_commands_train/conv.ckpt-4500\"\n",
            "INFO:tensorflow:Saving to \"/tmp/speech_commands_train/conv.ckpt-4600\"\n",
            "I0916 10:42:29.353676 140633325897600 train.py:297] Saving to \"/tmp/speech_commands_train/conv.ckpt-4600\"\n",
            "INFO:tensorflow:Saving to \"/tmp/speech_commands_train/conv.ckpt-4700\"\n",
            "I0916 10:43:33.854431 140633325897600 train.py:297] Saving to \"/tmp/speech_commands_train/conv.ckpt-4700\"\n",
            "INFO:tensorflow:Step #4800: rate 0.001000, accuracy 100.0%, cross entropy 0.005430\n",
            "I0916 10:44:37.790582 140633325897600 train.py:263] Step #4800: rate 0.001000, accuracy 100.0%, cross entropy 0.005430\n",
            "INFO:tensorflow:Confusion Matrix:\n",
            " [[1 0 0]\n",
            " [0 1 0]\n",
            " [0 0 9]]\n",
            "I0916 10:44:37.856626 140633325897600 train.py:287] Confusion Matrix:\n",
            " [[1 0 0]\n",
            " [0 1 0]\n",
            " [0 0 9]]\n",
            "INFO:tensorflow:Step 4800: Validation accuracy = 100.0% (N=11)\n",
            "I0916 10:44:37.856947 140633325897600 train.py:289] Step 4800: Validation accuracy = 100.0% (N=11)\n",
            "INFO:tensorflow:Saving to \"/tmp/speech_commands_train/conv.ckpt-4800\"\n",
            "I0916 10:44:37.857099 140633325897600 train.py:297] Saving to \"/tmp/speech_commands_train/conv.ckpt-4800\"\n",
            "INFO:tensorflow:Saving to \"/tmp/speech_commands_train/conv.ckpt-4900\"\n",
            "I0916 10:45:41.225463 140633325897600 train.py:297] Saving to \"/tmp/speech_commands_train/conv.ckpt-4900\"\n",
            "INFO:tensorflow:Saving to \"/tmp/speech_commands_train/conv.ckpt-5000\"\n",
            "I0916 10:46:45.379394 140633325897600 train.py:297] Saving to \"/tmp/speech_commands_train/conv.ckpt-5000\"\n",
            "INFO:tensorflow:Saving to \"/tmp/speech_commands_train/conv.ckpt-5100\"\n",
            "I0916 10:47:48.018108 140633325897600 train.py:297] Saving to \"/tmp/speech_commands_train/conv.ckpt-5100\"\n",
            "INFO:tensorflow:Step #5200: rate 0.001000, accuracy 100.0%, cross entropy 0.002162\n",
            "I0916 10:48:52.011135 140633325897600 train.py:263] Step #5200: rate 0.001000, accuracy 100.0%, cross entropy 0.002162\n",
            "INFO:tensorflow:Confusion Matrix:\n",
            " [[1 0 0]\n",
            " [0 1 0]\n",
            " [0 0 9]]\n",
            "I0916 10:48:52.074166 140633325897600 train.py:287] Confusion Matrix:\n",
            " [[1 0 0]\n",
            " [0 1 0]\n",
            " [0 0 9]]\n",
            "INFO:tensorflow:Step 5200: Validation accuracy = 100.0% (N=11)\n",
            "I0916 10:48:52.074538 140633325897600 train.py:289] Step 5200: Validation accuracy = 100.0% (N=11)\n",
            "INFO:tensorflow:Saving to \"/tmp/speech_commands_train/conv.ckpt-5200\"\n",
            "I0916 10:48:52.074671 140633325897600 train.py:297] Saving to \"/tmp/speech_commands_train/conv.ckpt-5200\"\n",
            "Traceback (most recent call last):\n",
            "  File \"speech_commands/train.py\", line 513, in <module>\n",
            "    tf.compat.v1.app.run(main=main, argv=[sys.argv[0]] + unparsed)\n",
            "  File \"/usr/local/lib/python3.6/dist-packages/tensorflow/python/platform/app.py\", line 40, in run\n",
            "    _run(main=main, argv=argv, flags_parser=_parse_flags_tolerate_undef)\n",
            "  File \"/usr/local/lib/python3.6/dist-packages/absl/app.py\", line 300, in run\n",
            "    _run_main(main, args)\n",
            "  File \"/usr/local/lib/python3.6/dist-packages/absl/app.py\", line 251, in _run_main\n",
            "    sys.exit(main(argv))\n",
            "  File \"speech_commands/train.py\", line 237, in main\n",
            "    FLAGS.background_volume, time_shift_samples, 'training', sess)\n",
            "  File \"/content/drive/My Drive/speech_commands/input_data.py\", line 605, in get_data\n",
            "    [self.merged_summaries_, self.output_], feed_dict=input_dict)\n",
            "  File \"/usr/local/lib/python3.6/dist-packages/tensorflow/python/client/session.py\", line 958, in run\n",
            "    run_metadata_ptr)\n",
            "  File \"/usr/local/lib/python3.6/dist-packages/tensorflow/python/client/session.py\", line 1181, in _run\n",
            "    feed_dict_tensor, options, run_metadata)\n",
            "  File \"/usr/local/lib/python3.6/dist-packages/tensorflow/python/client/session.py\", line 1359, in _do_run\n",
            "    run_metadata)\n",
            "  File \"/usr/local/lib/python3.6/dist-packages/tensorflow/python/client/session.py\", line 1365, in _do_call\n",
            "    return fn(*args)\n",
            "  File \"/usr/local/lib/python3.6/dist-packages/tensorflow/python/client/session.py\", line 1350, in _run_fn\n",
            "    target_list, run_metadata)\n",
            "  File \"/usr/local/lib/python3.6/dist-packages/tensorflow/python/client/session.py\", line 1443, in _call_tf_sessionrun\n",
            "    run_metadata)\n",
            "KeyboardInterrupt\n",
            "^C\n"
          ],
          "name": "stdout"
        }
      ]
    },
    {
      "cell_type": "code",
      "metadata": {
        "id": "OgJ2KssLWrZg",
        "outputId": "c4782c74-0293-4bb2-93c9-c2f86ec03f1f",
        "colab": {
          "base_uri": "https://localhost:8080/",
          "height": 86
        }
      },
      "source": [
        "!tensorboard --logdir /tmp/retrain_logs"
      ],
      "execution_count": null,
      "outputs": [
        {
          "output_type": "stream",
          "text": [
            "2020-08-19 09:50:29.613696: I tensorflow/stream_executor/platform/default/dso_loader.cc:48] Successfully opened dynamic library libcudart.so.10.1\n",
            "Serving TensorBoard on localhost; to expose to the network, use a proxy or pass --bind_all\n",
            "TensorBoard 2.3.0 at http://localhost:6006/ (Press CTRL+C to quit)\n",
            "^C\n"
          ],
          "name": "stdout"
        }
      ]
    },
    {
      "cell_type": "code",
      "metadata": {
        "id": "Oa1tExSiIHlD",
        "outputId": "b50c1e24-09f4-4b2c-b8ba-540bd0f6b424",
        "colab": {
          "base_uri": "https://localhost:8080/",
          "height": 819
        }
      },
      "source": [
        "!python speech_commands/freeze.py \\\n",
        "--start_checkpoint=/tmp/speech_commands_train/conv.ckpt-5200 \\\n",
        "--output_file=my_frozen_graph.pb"
      ],
      "execution_count": null,
      "outputs": [
        {
          "output_type": "stream",
          "text": [
            "2020-09-16 10:50:03.055938: I tensorflow/stream_executor/platform/default/dso_loader.cc:48] Successfully opened dynamic library libcudart.so.10.1\n",
            "2020-09-16 10:50:04.548933: I tensorflow/core/platform/profile_utils/cpu_utils.cc:104] CPU Frequency: 2299995000 Hz\n",
            "2020-09-16 10:50:04.549229: I tensorflow/compiler/xla/service/service.cc:168] XLA service 0x2260bc0 initialized for platform Host (this does not guarantee that XLA will be used). Devices:\n",
            "2020-09-16 10:50:04.549271: I tensorflow/compiler/xla/service/service.cc:176]   StreamExecutor device (0): Host, Default Version\n",
            "2020-09-16 10:50:04.551318: I tensorflow/stream_executor/platform/default/dso_loader.cc:48] Successfully opened dynamic library libcuda.so.1\n",
            "2020-09-16 10:50:04.603651: I tensorflow/stream_executor/cuda/cuda_gpu_executor.cc:982] successful NUMA node read from SysFS had negative value (-1), but there must be at least one NUMA node, so returning NUMA node zero\n",
            "2020-09-16 10:50:04.604486: I tensorflow/compiler/xla/service/service.cc:168] XLA service 0x2260d80 initialized for platform CUDA (this does not guarantee that XLA will be used). Devices:\n",
            "2020-09-16 10:50:04.604520: I tensorflow/compiler/xla/service/service.cc:176]   StreamExecutor device (0): Tesla K80, Compute Capability 3.7\n",
            "2020-09-16 10:50:04.604687: I tensorflow/stream_executor/cuda/cuda_gpu_executor.cc:982] successful NUMA node read from SysFS had negative value (-1), but there must be at least one NUMA node, so returning NUMA node zero\n",
            "2020-09-16 10:50:04.605316: I tensorflow/core/common_runtime/gpu/gpu_device.cc:1716] Found device 0 with properties: \n",
            "pciBusID: 0000:00:04.0 name: Tesla K80 computeCapability: 3.7\n",
            "coreClock: 0.8235GHz coreCount: 13 deviceMemorySize: 11.17GiB deviceMemoryBandwidth: 223.96GiB/s\n",
            "2020-09-16 10:50:04.605367: I tensorflow/stream_executor/platform/default/dso_loader.cc:48] Successfully opened dynamic library libcudart.so.10.1\n",
            "2020-09-16 10:50:04.607161: I tensorflow/stream_executor/platform/default/dso_loader.cc:48] Successfully opened dynamic library libcublas.so.10\n",
            "2020-09-16 10:50:04.608892: I tensorflow/stream_executor/platform/default/dso_loader.cc:48] Successfully opened dynamic library libcufft.so.10\n",
            "2020-09-16 10:50:04.609329: I tensorflow/stream_executor/platform/default/dso_loader.cc:48] Successfully opened dynamic library libcurand.so.10\n",
            "2020-09-16 10:50:04.611049: I tensorflow/stream_executor/platform/default/dso_loader.cc:48] Successfully opened dynamic library libcusolver.so.10\n",
            "2020-09-16 10:50:04.612206: I tensorflow/stream_executor/platform/default/dso_loader.cc:48] Successfully opened dynamic library libcusparse.so.10\n",
            "2020-09-16 10:50:04.615934: I tensorflow/stream_executor/platform/default/dso_loader.cc:48] Successfully opened dynamic library libcudnn.so.7\n",
            "2020-09-16 10:50:04.616128: I tensorflow/stream_executor/cuda/cuda_gpu_executor.cc:982] successful NUMA node read from SysFS had negative value (-1), but there must be at least one NUMA node, so returning NUMA node zero\n",
            "2020-09-16 10:50:04.616874: I tensorflow/stream_executor/cuda/cuda_gpu_executor.cc:982] successful NUMA node read from SysFS had negative value (-1), but there must be at least one NUMA node, so returning NUMA node zero\n",
            "2020-09-16 10:50:04.617468: I tensorflow/core/common_runtime/gpu/gpu_device.cc:1858] Adding visible gpu devices: 0\n",
            "2020-09-16 10:50:04.617528: I tensorflow/stream_executor/platform/default/dso_loader.cc:48] Successfully opened dynamic library libcudart.so.10.1\n",
            "2020-09-16 10:50:05.054721: I tensorflow/core/common_runtime/gpu/gpu_device.cc:1257] Device interconnect StreamExecutor with strength 1 edge matrix:\n",
            "2020-09-16 10:50:05.054780: I tensorflow/core/common_runtime/gpu/gpu_device.cc:1263]      0 \n",
            "2020-09-16 10:50:05.054798: I tensorflow/core/common_runtime/gpu/gpu_device.cc:1276] 0:   N \n",
            "2020-09-16 10:50:05.055026: I tensorflow/stream_executor/cuda/cuda_gpu_executor.cc:982] successful NUMA node read from SysFS had negative value (-1), but there must be at least one NUMA node, so returning NUMA node zero\n",
            "2020-09-16 10:50:05.055771: I tensorflow/stream_executor/cuda/cuda_gpu_executor.cc:982] successful NUMA node read from SysFS had negative value (-1), but there must be at least one NUMA node, so returning NUMA node zero\n",
            "2020-09-16 10:50:05.056449: I tensorflow/core/common_runtime/gpu/gpu_device.cc:1402] Created TensorFlow device (/job:localhost/replica:0/task:0/device:GPU:0 with 10506 MB memory) -> physical GPU (device: 0, name: Tesla K80, pci bus id: 0000:00:04.0, compute capability: 3.7)\n",
            "INFO:tensorflow:Restoring parameters from /tmp/speech_commands_train/conv.ckpt-5200\n",
            "I0916 10:50:05.115640 140498353035136 saver.py:1293] Restoring parameters from /tmp/speech_commands_train/conv.ckpt-5200\n",
            "WARNING:tensorflow:From speech_commands/freeze.py:235: convert_variables_to_constants (from tensorflow.python.framework.graph_util_impl) is deprecated and will be removed in a future version.\n",
            "Instructions for updating:\n",
            "Use `tf.compat.v1.graph_util.convert_variables_to_constants`\n",
            "W0916 10:50:05.129641 140498353035136 deprecation.py:323] From speech_commands/freeze.py:235: convert_variables_to_constants (from tensorflow.python.framework.graph_util_impl) is deprecated and will be removed in a future version.\n",
            "Instructions for updating:\n",
            "Use `tf.compat.v1.graph_util.convert_variables_to_constants`\n",
            "WARNING:tensorflow:From /usr/local/lib/python3.6/dist-packages/tensorflow/python/framework/convert_to_constants.py:854: extract_sub_graph (from tensorflow.python.framework.graph_util_impl) is deprecated and will be removed in a future version.\n",
            "Instructions for updating:\n",
            "Use `tf.compat.v1.graph_util.extract_sub_graph`\n",
            "W0916 10:50:05.129921 140498353035136 deprecation.py:323] From /usr/local/lib/python3.6/dist-packages/tensorflow/python/framework/convert_to_constants.py:854: extract_sub_graph (from tensorflow.python.framework.graph_util_impl) is deprecated and will be removed in a future version.\n",
            "Instructions for updating:\n",
            "Use `tf.compat.v1.graph_util.extract_sub_graph`\n",
            "INFO:tensorflow:Saved frozen graph to my_frozen_graph.pb\n",
            "I0916 10:50:05.153899 140498353035136 freeze.py:173] Saved frozen graph to my_frozen_graph.pb\n"
          ],
          "name": "stdout"
        }
      ]
    },
    {
      "cell_type": "code",
      "metadata": {
        "id": "DzMxjY24IPpi",
        "outputId": "120a0ff2-2a00-4dbb-99e6-3dcabc720035",
        "colab": {
          "base_uri": "https://localhost:8080/",
          "height": 888
        }
      },
      "source": [
        "!python speech_commands/label_wav.py \\\n",
        "--graph=my_frozen_graph.pb \\\n",
        "--labels=conv_labels.txt \\\n",
        "--wav=speech_commands/test/out2.wav"
      ],
      "execution_count": null,
      "outputs": [
        {
          "output_type": "stream",
          "text": [
            "2020-09-29 05:56:49.504320: I tensorflow/stream_executor/platform/default/dso_loader.cc:48] Successfully opened dynamic library libcudart.so.10.1\n",
            "2020-09-29 05:56:51.151886: I tensorflow/stream_executor/platform/default/dso_loader.cc:48] Successfully opened dynamic library libcuda.so.1\n",
            "2020-09-29 05:56:51.169343: I tensorflow/stream_executor/cuda/cuda_gpu_executor.cc:982] successful NUMA node read from SysFS had negative value (-1), but there must be at least one NUMA node, so returning NUMA node zero\n",
            "2020-09-29 05:56:51.170081: I tensorflow/core/common_runtime/gpu/gpu_device.cc:1716] Found device 0 with properties: \n",
            "pciBusID: 0000:00:04.0 name: Tesla K80 computeCapability: 3.7\n",
            "coreClock: 0.8235GHz coreCount: 13 deviceMemorySize: 11.17GiB deviceMemoryBandwidth: 223.96GiB/s\n",
            "2020-09-29 05:56:51.170129: I tensorflow/stream_executor/platform/default/dso_loader.cc:48] Successfully opened dynamic library libcudart.so.10.1\n",
            "2020-09-29 05:56:51.171602: I tensorflow/stream_executor/platform/default/dso_loader.cc:48] Successfully opened dynamic library libcublas.so.10\n",
            "2020-09-29 05:56:51.173147: I tensorflow/stream_executor/platform/default/dso_loader.cc:48] Successfully opened dynamic library libcufft.so.10\n",
            "2020-09-29 05:56:51.173570: I tensorflow/stream_executor/platform/default/dso_loader.cc:48] Successfully opened dynamic library libcurand.so.10\n",
            "2020-09-29 05:56:51.175045: I tensorflow/stream_executor/platform/default/dso_loader.cc:48] Successfully opened dynamic library libcusolver.so.10\n",
            "2020-09-29 05:56:51.175784: I tensorflow/stream_executor/platform/default/dso_loader.cc:48] Successfully opened dynamic library libcusparse.so.10\n",
            "2020-09-29 05:56:51.179136: I tensorflow/stream_executor/platform/default/dso_loader.cc:48] Successfully opened dynamic library libcudnn.so.7\n",
            "2020-09-29 05:56:51.179266: I tensorflow/stream_executor/cuda/cuda_gpu_executor.cc:982] successful NUMA node read from SysFS had negative value (-1), but there must be at least one NUMA node, so returning NUMA node zero\n",
            "2020-09-29 05:56:51.180101: I tensorflow/stream_executor/cuda/cuda_gpu_executor.cc:982] successful NUMA node read from SysFS had negative value (-1), but there must be at least one NUMA node, so returning NUMA node zero\n",
            "2020-09-29 05:56:51.180806: I tensorflow/core/common_runtime/gpu/gpu_device.cc:1858] Adding visible gpu devices: 0\n",
            "2020-09-29 05:56:51.186169: I tensorflow/core/platform/profile_utils/cpu_utils.cc:104] CPU Frequency: 2200000000 Hz\n",
            "2020-09-29 05:56:51.186379: I tensorflow/compiler/xla/service/service.cc:168] XLA service 0x2218a00 initialized for platform Host (this does not guarantee that XLA will be used). Devices:\n",
            "2020-09-29 05:56:51.186417: I tensorflow/compiler/xla/service/service.cc:176]   StreamExecutor device (0): Host, Default Version\n",
            "2020-09-29 05:56:51.240904: I tensorflow/stream_executor/cuda/cuda_gpu_executor.cc:982] successful NUMA node read from SysFS had negative value (-1), but there must be at least one NUMA node, so returning NUMA node zero\n",
            "2020-09-29 05:56:51.241793: I tensorflow/compiler/xla/service/service.cc:168] XLA service 0x68df500 initialized for platform CUDA (this does not guarantee that XLA will be used). Devices:\n",
            "2020-09-29 05:56:51.241827: I tensorflow/compiler/xla/service/service.cc:176]   StreamExecutor device (0): Tesla K80, Compute Capability 3.7\n",
            "2020-09-29 05:56:51.242028: I tensorflow/stream_executor/cuda/cuda_gpu_executor.cc:982] successful NUMA node read from SysFS had negative value (-1), but there must be at least one NUMA node, so returning NUMA node zero\n",
            "2020-09-29 05:56:51.242770: I tensorflow/core/common_runtime/gpu/gpu_device.cc:1716] Found device 0 with properties: \n",
            "pciBusID: 0000:00:04.0 name: Tesla K80 computeCapability: 3.7\n",
            "coreClock: 0.8235GHz coreCount: 13 deviceMemorySize: 11.17GiB deviceMemoryBandwidth: 223.96GiB/s\n",
            "2020-09-29 05:56:51.242823: I tensorflow/stream_executor/platform/default/dso_loader.cc:48] Successfully opened dynamic library libcudart.so.10.1\n",
            "2020-09-29 05:56:51.242871: I tensorflow/stream_executor/platform/default/dso_loader.cc:48] Successfully opened dynamic library libcublas.so.10\n",
            "2020-09-29 05:56:51.242908: I tensorflow/stream_executor/platform/default/dso_loader.cc:48] Successfully opened dynamic library libcufft.so.10\n",
            "2020-09-29 05:56:51.242944: I tensorflow/stream_executor/platform/default/dso_loader.cc:48] Successfully opened dynamic library libcurand.so.10\n",
            "2020-09-29 05:56:51.242987: I tensorflow/stream_executor/platform/default/dso_loader.cc:48] Successfully opened dynamic library libcusolver.so.10\n",
            "2020-09-29 05:56:51.243022: I tensorflow/stream_executor/platform/default/dso_loader.cc:48] Successfully opened dynamic library libcusparse.so.10\n",
            "2020-09-29 05:56:51.243056: I tensorflow/stream_executor/platform/default/dso_loader.cc:48] Successfully opened dynamic library libcudnn.so.7\n",
            "2020-09-29 05:56:51.243142: I tensorflow/stream_executor/cuda/cuda_gpu_executor.cc:982] successful NUMA node read from SysFS had negative value (-1), but there must be at least one NUMA node, so returning NUMA node zero\n",
            "2020-09-29 05:56:51.243919: I tensorflow/stream_executor/cuda/cuda_gpu_executor.cc:982] successful NUMA node read from SysFS had negative value (-1), but there must be at least one NUMA node, so returning NUMA node zero\n",
            "2020-09-29 05:56:51.244600: I tensorflow/core/common_runtime/gpu/gpu_device.cc:1858] Adding visible gpu devices: 0\n",
            "2020-09-29 05:56:51.244653: I tensorflow/stream_executor/platform/default/dso_loader.cc:48] Successfully opened dynamic library libcudart.so.10.1\n",
            "2020-09-29 05:56:51.711180: I tensorflow/core/common_runtime/gpu/gpu_device.cc:1257] Device interconnect StreamExecutor with strength 1 edge matrix:\n",
            "2020-09-29 05:56:51.711247: I tensorflow/core/common_runtime/gpu/gpu_device.cc:1263]      0 \n",
            "2020-09-29 05:56:51.711277: I tensorflow/core/common_runtime/gpu/gpu_device.cc:1276] 0:   N \n",
            "2020-09-29 05:56:51.711510: I tensorflow/stream_executor/cuda/cuda_gpu_executor.cc:982] successful NUMA node read from SysFS had negative value (-1), but there must be at least one NUMA node, so returning NUMA node zero\n",
            "2020-09-29 05:56:51.712329: I tensorflow/stream_executor/cuda/cuda_gpu_executor.cc:982] successful NUMA node read from SysFS had negative value (-1), but there must be at least one NUMA node, so returning NUMA node zero\n",
            "2020-09-29 05:56:51.713066: W tensorflow/core/common_runtime/gpu/gpu_bfc_allocator.cc:39] Overriding allow_growth setting because the TF_FORCE_GPU_ALLOW_GROWTH environment variable is set. Original config value was 0.\n",
            "2020-09-29 05:56:51.713121: I tensorflow/core/common_runtime/gpu/gpu_device.cc:1402] Created TensorFlow device (/job:localhost/replica:0/task:0/device:GPU:0 with 10630 MB memory) -> physical GPU (device: 0, name: Tesla K80, pci bus id: 0000:00:04.0, compute capability: 3.7)\n",
            "2020-09-29 05:56:51.741281: I tensorflow/stream_executor/platform/default/dso_loader.cc:48] Successfully opened dynamic library libcublas.so.10\n",
            "2020-09-29 05:56:51.924634: I tensorflow/stream_executor/platform/default/dso_loader.cc:48] Successfully opened dynamic library libcudnn.so.7\n",
            "python (score = 1.00000)\n",
            "_unknown_ (score = 0.00000)\n",
            "_silence_ (score = 0.00000)\n"
          ],
          "name": "stdout"
        }
      ]
    },
    {
      "cell_type": "code",
      "metadata": {
        "id": "Vh5z36wjI20t",
        "outputId": "a6f55b39-8125-4b9e-cdc9-461f435dab07",
        "colab": {
          "base_uri": "https://localhost:8080/",
          "height": 34
        }
      },
      "source": [
        "import tensorflow as tf\n",
        "from tensorflow.compat.v1.lite import TFLiteConverter\n",
        "\n",
        "converter = TFLiteConverter.from_frozen_graph(\n",
        "    'my_frozen_graph.pb', \n",
        "    input_arrays=['decoded_sample_data', 'decoded_sample_data:1'], \n",
        "    output_arrays=['labels_softmax'])\n",
        "\n",
        "converter.allow_custom_ops=True\n",
        "model = converter.convert()\n",
        "open('model.tflite', 'wb').write(model)"
      ],
      "execution_count": null,
      "outputs": [
        {
          "output_type": "execute_result",
          "data": {
            "text/plain": [
              "1452192"
            ]
          },
          "metadata": {
            "tags": []
          },
          "execution_count": 5
        }
      ]
    },
    {
      "cell_type": "code",
      "metadata": {
        "id": "fkteCarItl63",
        "outputId": "b5309179-8959-43db-ce3d-5114bd31e63e",
        "colab": {
          "base_uri": "https://localhost:8080/",
          "height": 17
        }
      },
      "source": [
        "from google.colab import files\n",
        "\n",
        "files.download('model.tflite')\n",
        "files.download('conv_labels.txt')"
      ],
      "execution_count": null,
      "outputs": [
        {
          "output_type": "display_data",
          "data": {
            "application/javascript": [
              "\n",
              "    async function download(id, filename, size) {\n",
              "      if (!google.colab.kernel.accessAllowed) {\n",
              "        return;\n",
              "      }\n",
              "      const div = document.createElement('div');\n",
              "      const label = document.createElement('label');\n",
              "      label.textContent = `Downloading \"${filename}\": `;\n",
              "      div.appendChild(label);\n",
              "      const progress = document.createElement('progress');\n",
              "      progress.max = size;\n",
              "      div.appendChild(progress);\n",
              "      document.body.appendChild(div);\n",
              "\n",
              "      const buffers = [];\n",
              "      let downloaded = 0;\n",
              "\n",
              "      const channel = await google.colab.kernel.comms.open(id);\n",
              "      // Send a message to notify the kernel that we're ready.\n",
              "      channel.send({})\n",
              "\n",
              "      for await (const message of channel.messages) {\n",
              "        // Send a message to notify the kernel that we're ready.\n",
              "        channel.send({})\n",
              "        if (message.buffers) {\n",
              "          for (const buffer of message.buffers) {\n",
              "            buffers.push(buffer);\n",
              "            downloaded += buffer.byteLength;\n",
              "            progress.value = downloaded;\n",
              "          }\n",
              "        }\n",
              "      }\n",
              "      const blob = new Blob(buffers, {type: 'application/binary'});\n",
              "      const a = document.createElement('a');\n",
              "      a.href = window.URL.createObjectURL(blob);\n",
              "      a.download = filename;\n",
              "      div.appendChild(a);\n",
              "      a.click();\n",
              "      div.remove();\n",
              "    }\n",
              "  "
            ],
            "text/plain": [
              "<IPython.core.display.Javascript object>"
            ]
          },
          "metadata": {
            "tags": []
          }
        },
        {
          "output_type": "display_data",
          "data": {
            "application/javascript": [
              "download(\"download_dcfd0fef-1658-4ec1-9a27-16600a4714e8\", \"model.tflite\", 1452192)"
            ],
            "text/plain": [
              "<IPython.core.display.Javascript object>"
            ]
          },
          "metadata": {
            "tags": []
          }
        },
        {
          "output_type": "display_data",
          "data": {
            "application/javascript": [
              "\n",
              "    async function download(id, filename, size) {\n",
              "      if (!google.colab.kernel.accessAllowed) {\n",
              "        return;\n",
              "      }\n",
              "      const div = document.createElement('div');\n",
              "      const label = document.createElement('label');\n",
              "      label.textContent = `Downloading \"${filename}\": `;\n",
              "      div.appendChild(label);\n",
              "      const progress = document.createElement('progress');\n",
              "      progress.max = size;\n",
              "      div.appendChild(progress);\n",
              "      document.body.appendChild(div);\n",
              "\n",
              "      const buffers = [];\n",
              "      let downloaded = 0;\n",
              "\n",
              "      const channel = await google.colab.kernel.comms.open(id);\n",
              "      // Send a message to notify the kernel that we're ready.\n",
              "      channel.send({})\n",
              "\n",
              "      for await (const message of channel.messages) {\n",
              "        // Send a message to notify the kernel that we're ready.\n",
              "        channel.send({})\n",
              "        if (message.buffers) {\n",
              "          for (const buffer of message.buffers) {\n",
              "            buffers.push(buffer);\n",
              "            downloaded += buffer.byteLength;\n",
              "            progress.value = downloaded;\n",
              "          }\n",
              "        }\n",
              "      }\n",
              "      const blob = new Blob(buffers, {type: 'application/binary'});\n",
              "      const a = document.createElement('a');\n",
              "      a.href = window.URL.createObjectURL(blob);\n",
              "      a.download = filename;\n",
              "      div.appendChild(a);\n",
              "      a.click();\n",
              "      div.remove();\n",
              "    }\n",
              "  "
            ],
            "text/plain": [
              "<IPython.core.display.Javascript object>"
            ]
          },
          "metadata": {
            "tags": []
          }
        },
        {
          "output_type": "display_data",
          "data": {
            "application/javascript": [
              "download(\"download_709132e2-47f8-4ade-bd5d-0e3492aacfe9\", \"conv_labels.txt\", 26)"
            ],
            "text/plain": [
              "<IPython.core.display.Javascript object>"
            ]
          },
          "metadata": {
            "tags": []
          }
        }
      ]
    },
    {
      "cell_type": "code",
      "metadata": {
        "id": "q3ADg604Qo6y"
      },
      "source": [
        ""
      ],
      "execution_count": null,
      "outputs": []
    }
  ]
}